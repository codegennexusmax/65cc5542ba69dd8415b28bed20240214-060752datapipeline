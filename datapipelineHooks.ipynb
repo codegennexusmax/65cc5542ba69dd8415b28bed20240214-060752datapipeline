{
 "cells": [
  {
   "cell_type": "markdown",
   "id": "4df9e240",
   "metadata": {},
   "source": [
    "***EXTENSIONS FOR datapipeline PIPELINE YOU CAN EDIT THESE EXTENSIONS***"
   ]
  },
  {
   "cell_type": "markdown",
   "id": "60b668b5",
   "metadata": {},
   "source": [
    "***EXTENSIONS FOR SOURCE STAGE***"
   ]
  },
  {
   "cell_type": "code",
   "execution_count": null,
   "id": "1e96d348",
   "metadata": {},
   "outputs": [],
   "source": [
    "def sourcePreExecutionHook():\n",
    "\tprint('inside source pre execution hook')\n",
    "\n",
    "\n",
    "def sourcePostExecutionHook(data):\n",
    "\tprint('inside source post execution hook')\n",
    "\n",
    "\n"
   ]
  },
  {
   "cell_type": "markdown",
   "id": "a4a8dec2",
   "metadata": {},
   "source": [
    "***EXTENSIONS FOR TRANSFORMATION STAGE***"
   ]
  },
  {
   "cell_type": "code",
   "execution_count": null,
   "id": "4cc1f90e",
   "metadata": {},
   "outputs": [],
   "source": [
    "def transformationPreExecutionHook():\n",
    "\tprint('inside transformation pre execution hook')\n",
    "\n",
    "\n",
    "def transformationPostExecutionHook(data):\n",
    "\tprint('inside transformation post execution hook')\n",
    "\n",
    "\n"
   ]
  },
  {
   "cell_type": "markdown",
   "id": "5145ce11",
   "metadata": {},
   "source": [
    "***EXTENSIONS FOR SINK STAGE***"
   ]
  },
  {
   "cell_type": "code",
   "execution_count": null,
   "id": "9612abb6",
   "metadata": {},
   "outputs": [],
   "source": [
    "def sinkPreExecutionHook():\n",
    "\tprint('inside sink pre execution hook')\n",
    "\n",
    "\n",
    "def sinkPostExecutionHook(data):\n",
    "\tprint('inside sink post execution hook')\n",
    "\n",
    "\n"
   ]
  }
 ],
 "metadata": {},
 "nbformat": 4,
 "nbformat_minor": 5
}
